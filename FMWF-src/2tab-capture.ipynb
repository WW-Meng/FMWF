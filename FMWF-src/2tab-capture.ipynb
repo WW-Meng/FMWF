{
 "cells": [
  {
   "cell_type": "code",
   "execution_count": null,
   "id": "a792598d-a293-4077-adf0-491310793b1c",
   "metadata": {},
   "outputs": [],
   "source": [
    "import numpy as np\n",
    "import matplotlib.pyplot as plt\n",
    "import pandas as pd\n",
    "\n",
    "import time\n",
    "import pyautogui\n",
    "\n",
    "import os\n",
    "import threading"
   ]
  },
  {
   "cell_type": "code",
   "execution_count": null,
   "id": "b6abc2f5-eaeb-435b-bdfa-f1c6f5da3540",
   "metadata": {},
   "outputs": [],
   "source": [
    "def tshark_thread(file_name, filt1, filt2):\n",
    "    os.system(f'tshark -i 4 -w {file_name} -f \"(host {filt1}) or (host {filt2})\"')\n",
    "    \n",
    "def visit_thread(url):\n",
    "    os.system('msedge --start-maximized ' + url)"
   ]
  },
  {
   "cell_type": "code",
   "execution_count": null,
   "id": "6d70624b-2cc3-4cbc-a060-96adf46338a4",
   "metadata": {},
   "outputs": [],
   "source": [
    "url_path = '/msedge/2tab-url.csv'\n",
    "out_path = '/msedge/2tab-traffic/'\n",
    "\n",
    "\n",
    "count_url = 100\n",
    "count_repeat = 10\n",
    "count_batch = 10\n",
    "\n",
    "count = 0\n",
    "\n",
    "df_url = pd.read_csv(url_path, header=None)\n",
    "\n",
    "for C in range(0, int(count_url / count_batch)):\n",
    "\n",
    "    for B in range(count_repeat):\n",
    "\n",
    "        for A in range(C * count_batch, C * count_batch + count_batch):\n",
    "        \n",
    "#             if A + 1 >= C * count_batch + count_batch:\n",
    "#                 break\n",
    "\n",
    "            url1 = df_url.iloc[A, 1]\n",
    "            url2 = df_url.iloc[A, 3]\n",
    "           \n",
    "            web1=df_url.iloc[A, 0]\n",
    "            web2=int(df_url.iloc[A, 2])\n",
    "\n",
    "            count += 1\n",
    "            print('\\r                                                                 ', end='')\n",
    "            print('\\rcapturing:', A, '-', B, end='  ')\n",
    "            print(str(count) + '/' + str(count_url * count_repeat), end='  ')\n",
    "            print(url1, url2,  end='  ')\n",
    "\n",
    "            t1 = threading.Thread(target=tshark_thread, \n",
    "                                  args=(out_path + f\"{web1}-{web2}-{B}.pcap\", url1, url2))\n",
    "            t1.start()\n",
    "            \n",
    "            time.sleep(4)\n",
    "            \n",
    "            t2 = threading.Thread(target=visit_thread, \n",
    "                                  args=(url1,))\n",
    "            t2.start()\n",
    "\n",
    "            time.sleep(8)\n",
    "            loading_time = 0\n",
    "            while(pyautogui.pixel(71,52) == (18,18,18)):\n",
    "                time.sleep(1)\n",
    "                loading_time += 1\n",
    "                if loading_time >= 20:\n",
    "                    break\n",
    "                    \n",
    "            t3 = threading.Thread(target=visit_thread, \n",
    "                                  args=(url2,))\n",
    "            t3.start()\n",
    "            time.sleep(8)\n",
    "            loading_time = 0                                      \n",
    "            while(pyautogui.pixel(71,52) == (18,18,18)):\n",
    "                time.sleep(1)\n",
    "                loading_time += 1\n",
    "                \n",
    "                if loading_time >= 20:\n",
    "                    break\n",
    "                    \n",
    "            time.sleep(2)\n",
    "            \n",
    "            pyautogui.screenshot(out_path + f\"{web1}-{web2}-{B}.jpg\")\n",
    "            time.sleep(1)\n",
    "            os.system('taskkill /F /IM tshark.exe')\n",
    "            os.system('taskkill /F /IM msedge.exe')\n",
    "\n",
    "            time.sleep(1)\n",
    "    \n",
    "print('\\ndone!')\n"
   ]
  },
  {
   "cell_type": "code",
   "execution_count": null,
   "id": "cf6cf214-99b7-4d59-8200-e8a2b14604f1",
   "metadata": {},
   "outputs": [],
   "source": []
  },
  {
   "cell_type": "code",
   "execution_count": null,
   "id": "728002f3-7af0-4bfc-a361-3f18998cfaf6",
   "metadata": {},
   "outputs": [],
   "source": []
  },
  {
   "cell_type": "code",
   "execution_count": null,
   "id": "2d33b5b1-6d8d-4c34-9aaf-e5de6a910704",
   "metadata": {},
   "outputs": [],
   "source": [
    "import os\n",
    "os.system('taskkill /F /IM msedge.exe')\n",
    "os.system('taskkill /F /IM tshark.exe')"
   ]
  },
  {
   "cell_type": "code",
   "execution_count": null,
   "id": "7e71aa3b-d7e6-4b5f-83b1-8c1b285b6996",
   "metadata": {},
   "outputs": [],
   "source": []
  },
  {
   "cell_type": "code",
   "execution_count": null,
   "id": "492cbf5d-8132-4c2b-a7c1-dcb4151186a1",
   "metadata": {},
   "outputs": [],
   "source": []
  }
 ],
 "metadata": {
  "kernelspec": {
   "display_name": "Python 3 (ipykernel)",
   "language": "python",
   "name": "python3"
  },
  "language_info": {
   "codemirror_mode": {
    "name": "ipython",
    "version": 3
   },
   "file_extension": ".py",
   "mimetype": "text/x-python",
   "name": "python",
   "nbconvert_exporter": "python",
   "pygments_lexer": "ipython3",
   "version": "3.12.4"
  }
 },
 "nbformat": 4,
 "nbformat_minor": 5
}
