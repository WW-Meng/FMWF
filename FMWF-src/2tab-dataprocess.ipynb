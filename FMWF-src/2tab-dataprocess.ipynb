{
 "cells": [
  {
   "cell_type": "code",
   "execution_count": null,
   "id": "b570939c-2adb-43c0-9151-2bfc612deb8d",
   "metadata": {},
   "outputs": [],
   "source": [
    "import numpy as np\n",
    "import pandas as pd\n",
    "from scapy.all import IP, rdpcap"
   ]
  },
  {
   "cell_type": "code",
   "execution_count": null,
   "id": "3630669f-309c-4b91-863c-d236931363f6",
   "metadata": {},
   "outputs": [],
   "source": [
    "def resize(arr, size):\n",
    "    if len(arr) >= size:\n",
    "        return arr[0:size]\n",
    "    return np.pad(arr,(0,size - len(arr)))"
   ]
  },
  {
   "cell_type": "code",
   "execution_count": null,
   "id": "64477bc5-09a6-4dc0-a602-9168aa383da2",
   "metadata": {},
   "outputs": [],
   "source": [
    "data_frame = list()\n",
    "local_ip = '192.168.1.111'\n",
    "resize_len = 10000\n",
    "input_path = 'E:/2tab-traffic/'\n",
    "count_repeat = 10\n",
    "\n",
    "# 读取csv文件中的组合\n",
    "combinations = pd.read_csv('E:/2taburl-label.csv')\n",
    "\n",
    "for index, row in combinations.iterrows():\n",
    "    A, B = row['A'], row['B']\n",
    "    \n",
    "    for F in range(count_repeat):\n",
    "        file_name = f'{input_path}{int(A)}-{int(B)}-{F}.pcap'\n",
    "        \n",
    "        try:\n",
    "            packets = rdpcap(file_name)\n",
    "            data = [A, B, F]\n",
    "            \n",
    "            for packet in packets:\n",
    "                if IP in packet:\n",
    "                    ip_src = packet[IP].src\n",
    "                    ip_dst = packet[IP].dst\n",
    "\n",
    "                    if ip_src == local_ip:\n",
    "                        data.append(len(packet))\n",
    "                    elif ip_dst == local_ip:\n",
    "                        data.append(-len(packet))\n",
    "\n",
    "            data_list = np.array(data)\n",
    "            data_list = resize(data_list, resize_len + 3)\n",
    "            data_list = np.array([data_list])\n",
    "\n",
    "            if len(data_frame) == 0:\n",
    "                data_frame = data_list\n",
    "            else:\n",
    "                data_frame = np.append(data_frame, data_list, axis=0)\n",
    "        except Exception as e:\n",
    "            print(f'\\tError opening file {file_name}:', e)\n",
    "            pass\n",
    "\n",
    "    print(f'\\rprocessing: {A}-{B}', end='')\n",
    "\n",
    "print('\\ndone!')\n",
    "\n",
    "out_path = 'E:/msedge/'\n",
    "df_data = pd.DataFrame(data_frame)\n",
    "df_data.to_csv(out_path + 'msedge-2tab.csv', index=None, header=None)\n"
   ]
  },
  {
   "cell_type": "code",
   "execution_count": null,
   "id": "7c4407a9-ab8e-4819-a6af-92c4bff4a8f3",
   "metadata": {},
   "outputs": [],
   "source": []
  }
 ],
 "metadata": {
  "kernelspec": {
   "display_name": "Python 3 (ipykernel)",
   "language": "python",
   "name": "python3"
  },
  "language_info": {
   "codemirror_mode": {
    "name": "ipython",
    "version": 3
   },
   "file_extension": ".py",
   "mimetype": "text/x-python",
   "name": "python",
   "nbconvert_exporter": "python",
   "pygments_lexer": "ipython3",
   "version": "3.12.4"
  }
 },
 "nbformat": 4,
 "nbformat_minor": 5
}
