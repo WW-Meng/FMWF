{
 "cells": [
  {
   "cell_type": "code",
   "execution_count": null,
   "id": "60b13141-20f3-4d59-98da-b15e26046f5d",
   "metadata": {},
   "outputs": [],
   "source": [
    "import numpy as np\n",
    "import pandas as pd\n",
    "from scapy.all import IP, rdpcap"
   ]
  },
  {
   "cell_type": "code",
   "execution_count": null,
   "id": "9f7d27a1-50c1-4391-9b9d-365a177c5627",
   "metadata": {},
   "outputs": [],
   "source": [
    "def resize(arr, size):\n",
    "    if len(arr) >= size:\n",
    "        return arr[0:size]\n",
    "    return np.pad(arr,(0,size - len(arr)))"
   ]
  },
  {
   "cell_type": "code",
   "execution_count": null,
   "id": "cca5c536-9650-4e29-98ec-09acb73a9df7",
   "metadata": {},
   "outputs": [],
   "source": [
    "data_frame = list()  # List to store the processed data\n",
    "local_ip = '192.168.1.111'  # Local IP address\n",
    "resize_len = 10000  # Length to resize the data\n",
    "input_path = 'E:/4tab-traffic/'  # Path to input .pcap files\n",
    "count_repeat = 10  # Number of repetitions\n",
    "\n",
    "# Read combinations of A, B, C, and D from the CSV file\n",
    "combinations = pd.read_csv('E:/4taburl-label.csv')\n",
    "\n",
    "# Loop through each combination of A, B, C, and D\n",
    "for index, row in combinations.iterrows():\n",
    "    A, B, C, D = row['A'], row['B'], row['C'], row['D']\n",
    "    \n",
    "    # Loop for each repetition\n",
    "    for F in range(count_repeat):\n",
    "        file_name = f'{input_path}{int(A)}-{int(B)}-{int(C)}-{int(D)}-{F}.pcap'  # Construct file name\n",
    "        \n",
    "        try:\n",
    "            packets = rdpcap(file_name)  # Read pcap file\n",
    "            data = [A, B, C, D, F]  # Initialize data list with A, B, C, D, and repetition index\n",
    "            \n",
    "            # Process each packet in the pcap file\n",
    "            for packet in packets:\n",
    "                if IP in packet:\n",
    "                    ip_src = packet[IP].src\n",
    "                    ip_dst = packet[IP].dst\n",
    "\n",
    "                    # Append packet length based on source or destination IP\n",
    "                    if ip_src == local_ip:\n",
    "                        data.append(len(packet))\n",
    "                    elif ip_dst == local_ip:\n",
    "                        data.append(-len(packet))\n",
    "\n",
    "            data_list = np.array(data)  # Convert data to numpy array\n",
    "            data_list = resize(data_list, resize_len + 5)  # Resize data array\n",
    "            data_list = np.array([data_list])  # Convert data list to array\n",
    "\n",
    "            # Append to data_frame if not empty, otherwise initialize it\n",
    "            if len(data_frame) == 0:\n",
    "                data_frame = data_list\n",
    "            else:\n",
    "                data_frame = np.append(data_frame, data_list, axis=0)\n",
    "        except Exception as e:\n",
    "            print(f'\\tError opening file {file_name}:', e)  # Print error if file can't be opened\n",
    "            pass\n",
    "\n",
    "    print(f'\\rprocessing: {A}-{B}-{C}-{D}', end='')  # Print current combination being processed\n",
    "\n",
    "print('\\ndone!')\n",
    "\n",
    "out_path = 'E:/chrome/'  # Output path\n",
    "df_data = pd.DataFrame(data_frame)  # Convert data to pandas DataFrame\n",
    "df_data.to_csv(out_path + 'chrome-4tab.csv', index=None, header=None)  # Save DataFrame to CSV\n"
   ]
  },
  {
   "cell_type": "code",
   "execution_count": null,
   "id": "499a760b-a590-4d70-811f-bf7ad6869b37",
   "metadata": {},
   "outputs": [],
   "source": []
  },
  {
   "cell_type": "code",
   "execution_count": null,
   "id": "b8056f76-d0f2-48f1-9e35-97bc492fcfac",
   "metadata": {},
   "outputs": [],
   "source": []
  },
  {
   "cell_type": "code",
   "execution_count": null,
   "id": "ee75901e-8012-4182-8db7-7f8b03f86fa3",
   "metadata": {},
   "outputs": [],
   "source": []
  }
 ],
 "metadata": {
  "kernelspec": {
   "display_name": "Python 3 (ipykernel)",
   "language": "python",
   "name": "python3"
  },
  "language_info": {
   "codemirror_mode": {
    "name": "ipython",
    "version": 3
   },
   "file_extension": ".py",
   "mimetype": "text/x-python",
   "name": "python",
   "nbconvert_exporter": "python",
   "pygments_lexer": "ipython3",
   "version": "3.12.4"
  }
 },
 "nbformat": 4,
 "nbformat_minor": 5
}
