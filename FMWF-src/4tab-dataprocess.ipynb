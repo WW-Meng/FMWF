{
 "cells": [
  {
   "cell_type": "code",
   "execution_count": null,
   "id": "a39565f6-f042-437a-9a2e-6f0e8846eaa1",
   "metadata": {},
   "outputs": [],
   "source": [
    "import numpy as np\n",
    "import pandas as pd\n",
    "from scapy.all import IP, rdpcap"
   ]
  },
  {
   "cell_type": "code",
   "execution_count": null,
   "id": "a3785db7-2d03-4a08-a910-003475868ec0",
   "metadata": {},
   "outputs": [],
   "source": [
    "def resize(arr, size):\n",
    "    if len(arr) >= size:\n",
    "        return arr[0:size]\n",
    "    return np.pad(arr,(0,size - len(arr)))"
   ]
  },
  {
   "cell_type": "code",
   "execution_count": null,
   "id": "f53735f5-340e-4e4d-9069-2011c34ebc16",
   "metadata": {},
   "outputs": [],
   "source": [
    "data_frame = list()\n",
    "local_ip = '192.168.1.111'\n",
    "resize_len = 10000\n",
    "input_path = 'E:/4tab-traffic/'\n",
    "count_repeat = 10\n",
    "\n",
    "# 读取csv文件中的组合\n",
    "combinations = pd.read_csv('E:/4taburl-label.csv')\n",
    "\n",
    "for index, row in combinations.iterrows():\n",
    "    A, B, C, D = row['A'], row['B'], row['C'], row['D']\n",
    "    \n",
    "    for F in range(count_repeat):\n",
    "        file_name = f'{input_path}{int(A)}-{int(B)}-{int(C)}-{int(D)}-{F}.pcap'\n",
    "        \n",
    "        try:\n",
    "            packets = rdpcap(file_name)\n",
    "            data = [A, B, C, D, F]\n",
    "            \n",
    "            for packet in packets:\n",
    "                if IP in packet:\n",
    "                    ip_src = packet[IP].src\n",
    "                    ip_dst = packet[IP].dst\n",
    "\n",
    "                    if ip_src == local_ip:\n",
    "                        data.append(len(packet))\n",
    "                    elif ip_dst == local_ip:\n",
    "                        data.append(-len(packet))\n",
    "\n",
    "            data_list = np.array(data)\n",
    "            data_list = resize(data_list, resize_len + 5)\n",
    "            data_list = np.array([data_list])\n",
    "\n",
    "            if len(data_frame) == 0:\n",
    "                data_frame = data_list\n",
    "            else:\n",
    "                data_frame = np.append(data_frame, data_list, axis=0)\n",
    "        except Exception as e:\n",
    "            print(f'\\tError opening file {file_name}:', e)\n",
    "            pass\n",
    "\n",
    "    print(f'\\rprocessing: {A}-{B}-{C}-{D}', end='')\n",
    "\n",
    "print('\\ndone!')\n",
    "\n",
    "out_path = 'E:/msedge/'\n",
    "df_data = pd.DataFrame(data_frame)\n",
    "df_data.to_csv(out_path + 'msedge-4tab.csv', index=None, header=None)\n"
   ]
  },
  {
   "cell_type": "code",
   "execution_count": null,
   "id": "7444edf0-0f24-42f0-be4e-02656b9003a4",
   "metadata": {},
   "outputs": [],
   "source": []
  },
  {
   "cell_type": "code",
   "execution_count": null,
   "id": "fdb1ac47-f3b6-46fb-bb3f-87886903fe70",
   "metadata": {},
   "outputs": [],
   "source": []
  },
  {
   "cell_type": "code",
   "execution_count": null,
   "id": "aea73303-45c9-4ce5-9529-7cbe58bea4c2",
   "metadata": {},
   "outputs": [],
   "source": []
  }
 ],
 "metadata": {
  "kernelspec": {
   "display_name": "Python 3 (ipykernel)",
   "language": "python",
   "name": "python3"
  },
  "language_info": {
   "codemirror_mode": {
    "name": "ipython",
    "version": 3
   },
   "file_extension": ".py",
   "mimetype": "text/x-python",
   "name": "python",
   "nbconvert_exporter": "python",
   "pygments_lexer": "ipython3",
   "version": "3.12.4"
  }
 },
 "nbformat": 4,
 "nbformat_minor": 5
}
