{
 "cells": [
  {
   "cell_type": "code",
   "execution_count": null,
   "id": "80d8f087-3d6a-4f35-9315-08a29a73707e",
   "metadata": {},
   "outputs": [],
   "source": [
    "import numpy as np\n",
    "import pandas as pd\n",
    "from scapy.all import IP, rdpcap"
   ]
  },
  {
   "cell_type": "code",
   "execution_count": null,
   "id": "792507d0-4cf5-45ee-aa4c-64bcad935135",
   "metadata": {},
   "outputs": [],
   "source": [
    "def resize(arr, size):\n",
    "    if len(arr) >= size:\n",
    "        return arr[0:size]\n",
    "    return np.pad(arr,(0,size - len(arr)))"
   ]
  },
  {
   "cell_type": "code",
   "execution_count": null,
   "id": "e33ea3c1-f327-44fc-8664-48cddb826a90",
   "metadata": {},
   "outputs": [],
   "source": [
    "data_frame = list()\n",
    "local_ip = '192.168.1.111'\n",
    "resize_len = 10000\n",
    "input_path = 'E:/3tab-traffic/'\n",
    "count_repeat = 10\n",
    "\n",
    "# 读取csv文件中的组合\n",
    "combinations = pd.read_csv('E:/3taburl-label.csv')\n",
    "\n",
    "for index, row in combinations.iterrows():\n",
    "    A, B, C = row['A'], row['B'], row['C']\n",
    "    \n",
    "    for F in range(count_repeat):\n",
    "        file_name = f'{input_path}{int(A)}-{int(B)}-{int(C)}-{F}.pcap'\n",
    "        \n",
    "        try:\n",
    "            packets = rdpcap(file_name)\n",
    "            data = [A, B, C, F]\n",
    "            \n",
    "            for packet in packets:\n",
    "                if IP in packet:\n",
    "                    ip_src = packet[IP].src\n",
    "                    ip_dst = packet[IP].dst\n",
    "\n",
    "                    if ip_src == local_ip:\n",
    "                        data.append(len(packet))\n",
    "                    elif ip_dst == local_ip:\n",
    "                        data.append(-len(packet))\n",
    "\n",
    "            data_list = np.array(data)\n",
    "            data_list = resize(data_list, resize_len + 4)\n",
    "            data_list = np.array([data_list])\n",
    "\n",
    "            if len(data_frame) == 0:\n",
    "                data_frame = data_list\n",
    "            else:\n",
    "                data_frame = np.append(data_frame, data_list, axis=0)\n",
    "        except Exception as e:\n",
    "            print(f'\\tError opening file {file_name}:', e)\n",
    "            pass\n",
    "\n",
    "    print(f'\\rprocessing: {A}-{B}-{C}', end='')\n",
    "\n",
    "print('\\ndone!')\n",
    "\n",
    "out_path = 'E:/msedge/'\n",
    "df_data = pd.DataFrame(data_frame)\n",
    "df_data.to_csv(out_path + 'msedge-3tab.csv', index=None, header=None)\n"
   ]
  },
  {
   "cell_type": "code",
   "execution_count": null,
   "id": "a2678093-ad7a-47aa-b42b-9181b9333bad",
   "metadata": {},
   "outputs": [],
   "source": []
  }
 ],
 "metadata": {
  "kernelspec": {
   "display_name": "Python 3 (ipykernel)",
   "language": "python",
   "name": "python3"
  },
  "language_info": {
   "codemirror_mode": {
    "name": "ipython",
    "version": 3
   },
   "file_extension": ".py",
   "mimetype": "text/x-python",
   "name": "python",
   "nbconvert_exporter": "python",
   "pygments_lexer": "ipython3",
   "version": "3.12.4"
  }
 },
 "nbformat": 4,
 "nbformat_minor": 5
}
