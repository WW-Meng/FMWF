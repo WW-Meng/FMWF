{
 "cells": [
  {
   "cell_type": "code",
   "execution_count": null,
   "id": "747f32de-c7c3-4061-9b22-d60799d9cc62",
   "metadata": {},
   "outputs": [],
   "source": [
    "import numpy as np\n",
    "import pandas as pd\n",
    "from scapy.all import IP, rdpcap"
   ]
  },
  {
   "cell_type": "code",
   "execution_count": null,
   "id": "e1326055-c7a5-421f-a8e5-2bb80b24f489",
   "metadata": {},
   "outputs": [],
   "source": [
    "def resize(arr, size):\n",
    "    if len(arr) >= size:\n",
    "        return arr[0:size]\n",
    "    return np.pad(arr,(0,size - len(arr)))"
   ]
  },
  {
   "cell_type": "code",
   "execution_count": null,
   "id": "43bac93a-b5ff-4b44-b930-7ee47d4f5d36",
   "metadata": {},
   "outputs": [],
   "source": [
    "data_frame = list()\n",
    "local_ip = '192.168.1.111'\n",
    "resize_len = 10000\n",
    "input_path = 'E:/5tab-traffic/'\n",
    "count_repeat = 10\n",
    "\n",
    "# 读取csv文件中的组合\n",
    "combinations = pd.read_csv('E:/5taburl-label.csv')\n",
    "\n",
    "for index, row in combinations.iterrows():\n",
    "    A, B, C, D, E = row['A'], row['B'], row['C'], row['D'], row['E']\n",
    "    \n",
    "    for F in range(count_repeat):\n",
    "        file_name = f'{input_path}{int(A)}-{int(B)}-{int(C)}-{int(D)}-{int(E)}-{F}.pcap'\n",
    "        \n",
    "        try:\n",
    "            packets = rdpcap(file_name)\n",
    "            data = [A, B, C, D, E, F]\n",
    "            \n",
    "            for packet in packets:\n",
    "                if IP in packet:\n",
    "                    ip_src = packet[IP].src\n",
    "                    ip_dst = packet[IP].dst\n",
    "\n",
    "                    if ip_src == local_ip:\n",
    "                        data.append(len(packet))\n",
    "                    elif ip_dst == local_ip:\n",
    "                        data.append(-len(packet))\n",
    "\n",
    "            data_list = np.array(data)\n",
    "            data_list = resize(data_list, resize_len + 6)\n",
    "            data_list = np.array([data_list])\n",
    "\n",
    "            if len(data_frame) == 0:\n",
    "                data_frame = data_list\n",
    "            else:\n",
    "                data_frame = np.append(data_frame, data_list, axis=0)\n",
    "        except Exception as e:\n",
    "            print(f'\\tError opening file {file_name}:', e)\n",
    "            pass\n",
    "\n",
    "    print(f'\\rprocessing: {A}-{B}-{C}-{D}-{E}', end='')\n",
    "\n",
    "print('\\ndone!')\n",
    "\n",
    "out_path = 'E:/msedge/'\n",
    "df_data = pd.DataFrame(data_frame)\n",
    "df_data.to_csv(out_path + 'msedge-5tab.csv', index=None, header=None)\n"
   ]
  },
  {
   "cell_type": "code",
   "execution_count": null,
   "id": "0f50861d-3260-432f-9a0e-87b87241ab3f",
   "metadata": {},
   "outputs": [],
   "source": []
  },
  {
   "cell_type": "code",
   "execution_count": null,
   "id": "39c6e3e7-8cb8-4846-b8f2-eec6b885c681",
   "metadata": {},
   "outputs": [],
   "source": []
  },
  {
   "cell_type": "code",
   "execution_count": null,
   "id": "d6af0901-5be4-4bc9-addd-8f67bad7d0dc",
   "metadata": {},
   "outputs": [],
   "source": []
  },
  {
   "cell_type": "code",
   "execution_count": null,
   "id": "bf442f1f-c901-48c6-a2c0-89c8a8319797",
   "metadata": {},
   "outputs": [],
   "source": []
  },
  {
   "cell_type": "code",
   "execution_count": null,
   "id": "5df601bd-9387-4ce9-904f-d6d46fb5fbe8",
   "metadata": {},
   "outputs": [],
   "source": []
  },
  {
   "cell_type": "code",
   "execution_count": null,
   "id": "c070af5a-0d24-43fa-8af7-77ab4952dd64",
   "metadata": {},
   "outputs": [],
   "source": []
  },
  {
   "cell_type": "code",
   "execution_count": null,
   "id": "87e34f61-9fc0-4128-bc42-67a78bb067ba",
   "metadata": {},
   "outputs": [],
   "source": []
  }
 ],
 "metadata": {
  "kernelspec": {
   "display_name": "Python 3 (ipykernel)",
   "language": "python",
   "name": "python3"
  },
  "language_info": {
   "codemirror_mode": {
    "name": "ipython",
    "version": 3
   },
   "file_extension": ".py",
   "mimetype": "text/x-python",
   "name": "python",
   "nbconvert_exporter": "python",
   "pygments_lexer": "ipython3",
   "version": "3.12.4"
  }
 },
 "nbformat": 4,
 "nbformat_minor": 5
}
